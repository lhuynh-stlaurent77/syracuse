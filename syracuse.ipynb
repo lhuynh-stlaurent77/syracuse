{
 "cells": [
  {
   "cell_type": "markdown",
   "metadata": {},
   "source": [
    "# Programme Syracuse\n",
    "Lucas H.\n",
    "Killian K."
   ]
  },
  {
   "cell_type": "code",
   "execution_count": 9,
   "metadata": {},
   "outputs": [
    {
     "name": "stdout",
     "output_type": "stream",
     "text": [
      "Entrez un nombre entier naturel different de zero : 15\n",
      "le temps de vol est de 17\n",
      "L'altitude est de 160.0\n",
      "[15, 46, 23.0, 70.0, 35.0, 106.0, 53.0, 160.0, 80.0, 40.0, 20.0, 10.0, 5.0, 16.0, 8.0, 4.0, 2.0, 1.0]\n"
     ]
    },
    {
     "data": {
      "image/png": "[encoded data removed]",
      "text/plain": [
       "<Figure size 432x288 with 1 Axes>"
      ]
     },
     "metadata": {
      "needs_background": "light"
     },
     "output_type": "display_data"
    }
   ],
   "source": [
    "#On appelle n le nombre entier entre, t le temps de vol et a l'altitude de vol.\n",
    "\n",
    "from matplotlib.pyplot import *\n",
    "\n",
    "def syra(n):\n",
    "    a=0\n",
    "    t=0\n",
    "    u=[n,]\n",
    "    while n!=1:\n",
    "        if n%2==0:\n",
    "            n=n/2\n",
    "        else:\n",
    "            n=n*3+1\n",
    "        u.append(n)\n",
    "        t=t+1\n",
    "        if a<n:\n",
    "            a=n\n",
    "    print(\"le temps de vol est de\",t)\n",
    "    print(\"L'altitude est de\",a)\n",
    "    print(u)\n",
    "    return u\n",
    "\n",
    "def syraplot(n):\n",
    "    matplotlib.pyplot.plot(syra(n),\"ro\")\n",
    "    matplotlib.pyplot.show()\n",
    "\n",
    "n=int(input('Entrez un nombre entier naturel different de zero : '))\n",
    "syraplot(n)"
   ]
  },
  {
   "cell_type": "code",
   "execution_count": null,
   "metadata": {},
   "outputs": [],
   "source": []
  }
 ],
 "metadata": {
  "kernelspec": {
   "display_name": "Python 3",
   "language": "python",
   "name": "python3"
  },
  "language_info": {
   "codemirror_mode": {
    "name": "ipython",
    "version": 3
   },
   "file_extension": ".py",
   "mimetype": "text/x-python",
   "name": "python",
   "nbconvert_exporter": "python",
   "pygments_lexer": "ipython3",
   "version": "3.8.5"
  }
 },
 "nbformat": 4,
 "nbformat_minor": 4
}
